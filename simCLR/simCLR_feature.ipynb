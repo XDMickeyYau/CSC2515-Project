{
  "cells": [
    {
      "cell_type": "markdown",
      "metadata": {
        "colab_type": "text",
        "id": "view-in-github"
      },
      "source": [
        "<a href=\"https://colab.research.google.com/github/XDMickeyYau/CSC2515-Project/blob/simCLR-results/simCLR/feature.ipynb\" target=\"_parent\"><img src=\"https://colab.research.google.com/assets/colab-badge.svg\" alt=\"Open In Colab\"/></a>"
      ]
    },
    {
      "cell_type": "code",
      "execution_count": 2,
      "metadata": {
        "id": "GDMJMmT4PSa3"
      },
      "outputs": [],
      "source": [
        "import re\n",
        "import numpy as np\n",
        "\n",
        "import tensorflow.compat.v1 as tf\n",
        "tf.disable_eager_execution()\n",
        "import tensorflow_hub as hub\n",
        "import tensorflow_datasets as tfds\n",
        "\n",
        "import matplotlib\n",
        "import matplotlib.pyplot as plt"
      ]
    },
    {
      "cell_type": "code",
      "execution_count": 1,
      "metadata": {
        "colab": {
          "base_uri": "https://localhost:8080/"
        },
        "id": "ki7OAE_IPWA2",
        "outputId": "2714e3f0-3c90-4573-b473-b7692e9442d4"
      },
      "outputs": [
        {
          "name": "stdout",
          "output_type": "stream",
          "text": [
            "Mounted at /content/drive\n"
          ]
        }
      ],
      "source": [
        "from google.colab import drive\n",
        "drive.mount('/content/drive')"
      ]
    },
    {
      "cell_type": "code",
      "execution_count": 4,
      "metadata": {
        "id": "CXxxPz7pPWZ1"
      },
      "outputs": [],
      "source": [
        "!cp -r drive/MyDrive/CIFARData/*.npz ."
      ]
    },
    {
      "cell_type": "code",
      "execution_count": 5,
      "metadata": {
        "colab": {
          "base_uri": "https://localhost:8080/"
        },
        "id": "q9sCn5FUPrMW",
        "outputId": "11bb61ab-d70a-47e4-b276-133c4a371d10"
      },
      "outputs": [
        {
          "data": {
            "text/plain": [
              "((10, 4500, 32, 32, 3), (10, 1000, 32, 32, 3), (10, 500, 32, 32, 3))"
            ]
          },
          "execution_count": 5,
          "metadata": {},
          "output_type": "execute_result"
        }
      ],
      "source": [
        "CIFARData = np.load('CIFARData10Class.npz')['arr_0']\n",
        "CIFARDataTest = np.load('CIFARDataTest10Class.npz')['arr_0']\n",
        "CIFARDataVal = np.load('CIFARValData10Class.npz')['arr_0']\n",
        "CIFARData.shape, CIFARDataTest.shape, CIFARDataVal.shape"
      ]
    },
    {
      "cell_type": "code",
      "execution_count": 6,
      "metadata": {
        "colab": {
          "base_uri": "https://localhost:8080/"
        },
        "id": "7y5PX9BqQJUy",
        "outputId": "7b831232-8ebd-4053-9aae-52726f6318a5"
      },
      "outputs": [
        {
          "data": {
            "text/plain": [
              "((45000, 32, 32, 3), (10000, 32, 32, 3), (5000, 32, 32, 3))"
            ]
          },
          "execution_count": 6,
          "metadata": {},
          "output_type": "execute_result"
        }
      ],
      "source": [
        "CIFARDataFlat = CIFARData.reshape(-1,32,32,3)\n",
        "CIFARDataTestFlat = CIFARDataTest.reshape(-1,32,32,3)\n",
        "CIFARDataValFlat = CIFARDataVal.reshape(-1,32,32,3)\n",
        "CIFARDataFlat.shape, CIFARDataTestFlat.shape, CIFARDataValFlat.shape"
      ]
    },
    {
      "cell_type": "code",
      "execution_count": 7,
      "metadata": {
        "id": "rK_t7tS8RqIn"
      },
      "outputs": [],
      "source": [
        "hub_path = 'gs://simclr-checkpoints/simclrv2/finetuned_100pct/r50_1x_sk0/hub/'\n",
        "module = hub.Module(hub_path, trainable=False)"
      ]
    },
    {
      "cell_type": "code",
      "execution_count": 8,
      "metadata": {
        "id": "XkMAdp4wSCsp"
      },
      "outputs": [],
      "source": [
        "sess = tf.Session()\n",
        "sess.run(tf.global_variables_initializer())"
      ]
    },
    {
      "cell_type": "code",
      "execution_count": 9,
      "metadata": {
        "id": "ruggRWvNRNWx"
      },
      "outputs": [],
      "source": [
        "def convert_feature(module, sess, data):\n",
        "    input = tf.convert_to_tensor(data.astype(np.float32))\n",
        "    feature_vec = sess.run(module(input))\n",
        "    return feature_vec"
      ]
    },
    {
      "cell_type": "code",
      "execution_count": 10,
      "metadata": {
        "colab": {
          "base_uri": "https://localhost:8080/"
        },
        "id": "RJ4pgMuxSNsh",
        "outputId": "292da1a4-cd07-4fbe-da58-5b17e7306882"
      },
      "outputs": [
        {
          "data": {
            "text/plain": [
              "((45000, 2048), (10000, 2048), (5000, 2048))"
            ]
          },
          "execution_count": 10,
          "metadata": {},
          "output_type": "execute_result"
        }
      ],
      "source": [
        "CIFARDataFeature = convert_feature(module, sess, CIFARDataFlat)\n",
        "CIFARDataTestFeature = convert_feature(module, sess, CIFARDataTestFlat)\n",
        "CIFARDataValFeature = convert_feature(module, sess, CIFARDataValFlat)\n",
        "CIFARDataFeature.shape, CIFARDataTestFeature.shape, CIFARDataValFeature.shape"
      ]
    },
    {
      "cell_type": "code",
      "execution_count": 11,
      "metadata": {
        "id": "VusC-fZeS76f"
      },
      "outputs": [],
      "source": [
        "np.savez('CIFARDataFeature10Class.npz', CIFARDataFeature)\n",
        "np.savez('CIFARDataTestFeature10Class.npz', CIFARDataTestFeature)\n",
        "np.savez('CIFARDataValFeature10Class.npz', CIFARDataValFeature)"
      ]
    },
    {
      "cell_type": "code",
      "execution_count": 13,
      "metadata": {
        "id": "16DfYJimTJnq"
      },
      "outputs": [],
      "source": [
        "!cp -r ./*.npz drive/MyDrive/simCLRfeature/"
      ]
    },
    {
      "cell_type": "code",
      "execution_count": null,
      "metadata": {
        "id": "cgj6KO18UCm7"
      },
      "outputs": [],
      "source": []
    }
  ],
  "metadata": {
    "colab": {
      "include_colab_link": true,
      "provenance": []
    },
    "kernelspec": {
      "display_name": "Python 3",
      "language": "python",
      "name": "python3"
    },
    "language_info": {
      "name": "python",
      "version": "3.9.6 (default, Aug  5 2022, 15:21:02) \n[Clang 14.0.0 (clang-1400.0.29.102)]"
    },
    "orig_nbformat": 4,
    "vscode": {
      "interpreter": {
        "hash": "31f2aee4e71d21fbe5cf8b01ff0e069b9275f58929596ceb00d14d90e3e16cd6"
      }
    }
  },
  "nbformat": 4,
  "nbformat_minor": 0
}
