{
  "cells": [
    {
      "cell_type": "code",
      "execution_count": 1,
      "metadata": {
        "id": "GDMJMmT4PSa3"
      },
      "outputs": [],
      "source": [
        "import re\n",
        "import numpy as np\n",
        "\n",
        "import tensorflow.compat.v1 as tf\n",
        "tf.disable_eager_execution()\n",
        "import tensorflow_hub as hub\n",
        "import tensorflow_datasets as tfds\n",
        "\n",
        "import matplotlib\n",
        "import matplotlib.pyplot as plt"
      ]
    },
    {
      "cell_type": "code",
      "source": [
        "from google.colab import drive\n",
        "drive.mount('/content/drive')"
      ],
      "metadata": {
        "colab": {
          "base_uri": "https://localhost:8080/"
        },
        "id": "ki7OAE_IPWA2",
        "outputId": "6af1b7c8-da4b-4e0e-ea8b-7b0cb33e9cfd"
      },
      "execution_count": 3,
      "outputs": [
        {
          "output_type": "stream",
          "name": "stdout",
          "text": [
            "Mounted at /content/drive\n"
          ]
        }
      ]
    },
    {
      "cell_type": "code",
      "source": [
        "!cp -r drive/MyDrive/CIFARData ."
      ],
      "metadata": {
        "id": "CXxxPz7pPWZ1"
      },
      "execution_count": 7,
      "outputs": []
    },
    {
      "cell_type": "code",
      "source": [
        "CIFAR10Data = np.load('CIFARData.npz')['arr_0']\n",
        "CIFARDataTest = np.load('CIFARDataTest.npz')['arr_0']\n",
        "CIFAR10DataVal = np.load('CIFARValData.npz')['arr_0']"
      ],
      "metadata": {
        "id": "q9sCn5FUPrMW"
      },
      "execution_count": 9,
      "outputs": []
    },
    {
      "cell_type": "code",
      "source": [
        "CIFAR10Data.shape, CIFARDataTest.shape, CIFAR10DataVal.shape"
      ],
      "metadata": {
        "colab": {
          "base_uri": "https://localhost:8080/"
        },
        "id": "6M5mUid7P517",
        "outputId": "d9c32493-8f68-4941-a2e1-10a816bcdbd3"
      },
      "execution_count": 10,
      "outputs": [
        {
          "output_type": "execute_result",
          "data": {
            "text/plain": [
              "((4, 4500, 32, 32, 3), (4, 1000, 32, 32, 3), (4, 500, 32, 32, 3))"
            ]
          },
          "metadata": {},
          "execution_count": 10
        }
      ]
    },
    {
      "cell_type": "code",
      "source": [
        "CIFAR10DataFlat = CIFAR10Data.reshape(-1,32,32,3)\n",
        "CIFARDataTestFlat = CIFARDataTest.reshape(-1,32,32,3)\n",
        "CIFAR10DataValFlat = CIFAR10DataVal.reshape(-1,32,32,3)\n",
        "CIFAR10DataFlat.shape, CIFARDataTestFlat.shape, CIFAR10DataValFlat.shape"
      ],
      "metadata": {
        "colab": {
          "base_uri": "https://localhost:8080/"
        },
        "id": "7y5PX9BqQJUy",
        "outputId": "1b8ff93b-f8a6-4ef7-c5d3-cc83f6de2d65"
      },
      "execution_count": 13,
      "outputs": [
        {
          "output_type": "execute_result",
          "data": {
            "text/plain": [
              "((18000, 32, 32, 3), (4000, 32, 32, 3), (2000, 32, 32, 3))"
            ]
          },
          "metadata": {},
          "execution_count": 13
        }
      ]
    },
    {
      "cell_type": "code",
      "source": [
        "hub_path = 'gs://simclr-checkpoints/simclrv2/finetuned_100pct/r50_1x_sk0/hub/'\n",
        "module = hub.Module(hub_path, trainable=False)"
      ],
      "metadata": {
        "id": "rK_t7tS8RqIn"
      },
      "execution_count": 14,
      "outputs": []
    },
    {
      "cell_type": "code",
      "source": [
        "sess = tf.Session()\n",
        "sess.run(tf.global_variables_initializer())"
      ],
      "metadata": {
        "id": "XkMAdp4wSCsp"
      },
      "execution_count": 15,
      "outputs": []
    },
    {
      "cell_type": "code",
      "source": [
        "def convert_feature(module, sess, data):\n",
        "    input = tf.convert_to_tensor(data.astype(np.float32))\n",
        "    feature_vec = sess.run(module(input))\n",
        "    return feature_vec"
      ],
      "metadata": {
        "id": "ruggRWvNRNWx"
      },
      "execution_count": 16,
      "outputs": []
    },
    {
      "cell_type": "code",
      "source": [
        "CIFAR10DataFeature = convert_feature(module, sess, CIFAR10DataFlat)"
      ],
      "metadata": {
        "id": "RJ4pgMuxSNsh"
      },
      "execution_count": 17,
      "outputs": []
    },
    {
      "cell_type": "code",
      "source": [
        "CIFAR10DataFeature.shape"
      ],
      "metadata": {
        "colab": {
          "base_uri": "https://localhost:8080/"
        },
        "id": "FHNxD5FNSkKO",
        "outputId": "db4d52ba-6f0c-4606-d472-daf516c535fd"
      },
      "execution_count": 18,
      "outputs": [
        {
          "output_type": "execute_result",
          "data": {
            "text/plain": [
              "(18000, 2048)"
            ]
          },
          "metadata": {},
          "execution_count": 18
        }
      ]
    },
    {
      "cell_type": "code",
      "source": [
        "CIFARDataTestFeature = convert_feature(module, sess, CIFARDataTestFlat)\n",
        "CIFARDataTestFeature.shape"
      ],
      "metadata": {
        "colab": {
          "base_uri": "https://localhost:8080/"
        },
        "id": "gsZMZibESg1l",
        "outputId": "eb48601f-6b66-4dbb-c940-adb901170c53"
      },
      "execution_count": 19,
      "outputs": [
        {
          "output_type": "execute_result",
          "data": {
            "text/plain": [
              "(4000, 2048)"
            ]
          },
          "metadata": {},
          "execution_count": 19
        }
      ]
    },
    {
      "cell_type": "code",
      "source": [
        "CIFAR10DataValFeature = convert_feature(module, sess, CIFAR10DataValFlat)\n",
        "CIFARDataTestFeature.shape"
      ],
      "metadata": {
        "colab": {
          "base_uri": "https://localhost:8080/"
        },
        "id": "lpsGGZbgSgEC",
        "outputId": "80f95b03-38ab-474e-efdb-0dab9b60cd1a"
      },
      "execution_count": 20,
      "outputs": [
        {
          "output_type": "execute_result",
          "data": {
            "text/plain": [
              "(4000, 2048)"
            ]
          },
          "metadata": {},
          "execution_count": 20
        }
      ]
    },
    {
      "cell_type": "code",
      "source": [
        "np.savez('CIFAR10DataFeature.npz', CIFAR10DataFeature)\n",
        "np.savez('CIFARDataTestFeature.npz', CIFARDataTestFeature)\n",
        "np.savez('CIFAR10DataValFeature.npz', CIFAR10DataValFeature)"
      ],
      "metadata": {
        "id": "VusC-fZeS76f"
      },
      "execution_count": 21,
      "outputs": []
    },
    {
      "cell_type": "code",
      "source": [
        "!cp -r ./CIFARData drive/MyDrive/simCLRfeature/"
      ],
      "metadata": {
        "id": "16DfYJimTJnq"
      },
      "execution_count": 24,
      "outputs": []
    },
    {
      "cell_type": "code",
      "source": [],
      "metadata": {
        "id": "cgj6KO18UCm7"
      },
      "execution_count": null,
      "outputs": []
    }
  ],
  "metadata": {
    "kernelspec": {
      "display_name": "Python 3",
      "language": "python",
      "name": "python3"
    },
    "language_info": {
      "name": "python",
      "version": "3.9.6 (default, Aug  5 2022, 15:21:02) \n[Clang 14.0.0 (clang-1400.0.29.102)]"
    },
    "orig_nbformat": 4,
    "vscode": {
      "interpreter": {
        "hash": "31f2aee4e71d21fbe5cf8b01ff0e069b9275f58929596ceb00d14d90e3e16cd6"
      }
    },
    "colab": {
      "provenance": []
    }
  },
  "nbformat": 4,
  "nbformat_minor": 0
}