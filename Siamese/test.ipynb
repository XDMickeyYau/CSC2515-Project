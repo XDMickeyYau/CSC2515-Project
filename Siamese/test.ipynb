{
 "cells": [
  {
   "cell_type": "code",
   "execution_count": 2,
   "metadata": {},
   "outputs": [],
   "source": [
    "import numpy as np"
   ]
  },
  {
   "cell_type": "markdown",
   "metadata": {},
   "source": [
    "Emb1"
   ]
  },
  {
   "cell_type": "code",
   "execution_count": 22,
   "metadata": {},
   "outputs": [],
   "source": [
    "v1 = 0.362\n",
    "v2 = 0.658\n",
    "v3 = 0.646 \n",
    "v4 = 0.69\n",
    "\n",
    "e11 = (v1+v2+v3+v4)/4"
   ]
  },
  {
   "cell_type": "code",
   "execution_count": 23,
   "metadata": {},
   "outputs": [],
   "source": [
    "v1 = 0.198\n",
    "v2 = 0.78\n",
    "v3 = 0.594 \n",
    "v4 = 0.83\n",
    "\n",
    "e12 = (v1+v2+v3+v4)/4"
   ]
  },
  {
   "cell_type": "code",
   "execution_count": 24,
   "metadata": {},
   "outputs": [],
   "source": [
    "v1 = 0.322\n",
    "v2 = 0.772\n",
    "v3 = 0.63 \n",
    "v4 = 0.776\n",
    "\n",
    "e13 = (v1+v2+v3+v4)/4"
   ]
  },
  {
   "cell_type": "code",
   "execution_count": 26,
   "metadata": {},
   "outputs": [],
   "source": [
    "e1 = (e11 + e12 + e13)/3"
   ]
  },
  {
   "cell_type": "markdown",
   "metadata": {},
   "source": [
    "Emb2"
   ]
  },
  {
   "cell_type": "code",
   "execution_count": 27,
   "metadata": {},
   "outputs": [],
   "source": [
    "v1 = 0.672\n",
    "v2 = 0.802\n",
    "v3 = 0.82 \n",
    "v4 = 0.858\n",
    "\n",
    "e21 = (v1+v2+v3+v4)/4"
   ]
  },
  {
   "cell_type": "code",
   "execution_count": 28,
   "metadata": {},
   "outputs": [],
   "source": [
    "v1 = 0.632\n",
    "v2 = 0.826\n",
    "v3 = 0.676 \n",
    "v4 = 0.834\n",
    "\n",
    "e22 = (v1+v2+v3+v4)/4"
   ]
  },
  {
   "cell_type": "code",
   "execution_count": 29,
   "metadata": {},
   "outputs": [],
   "source": [
    "v1 = 0.684\n",
    "v2 = 0.824\n",
    "v3 = 0.82 \n",
    "v4 = 0.762\n",
    "\n",
    "e23 = (v1+v2+v3+v4)/4"
   ]
  },
  {
   "cell_type": "code",
   "execution_count": 30,
   "metadata": {},
   "outputs": [],
   "source": [
    "e2 = (e21 + e22 + e23)/3"
   ]
  },
  {
   "cell_type": "markdown",
   "metadata": {},
   "source": [
    "Emb3"
   ]
  },
  {
   "cell_type": "code",
   "execution_count": 31,
   "metadata": {},
   "outputs": [],
   "source": [
    "v1 = 0.536\n",
    "v2 = 0.85\n",
    "v3 = 0.784 \n",
    "v4 = 0.868\n",
    "\n",
    "e31 = (v1+v2+v3+v4)/4"
   ]
  },
  {
   "cell_type": "code",
   "execution_count": 32,
   "metadata": {},
   "outputs": [],
   "source": [
    "v1 = 0.678\n",
    "v2 = 0.814\n",
    "v3 = 0.786 \n",
    "v4 = 0.82\n",
    "\n",
    "e32 = (v1+v2+v3+v4)/4"
   ]
  },
  {
   "cell_type": "code",
   "execution_count": 35,
   "metadata": {},
   "outputs": [],
   "source": [
    "v1 = 0.644\n",
    "v2 = 0.716\n",
    "v3 = 0.816 \n",
    "v4 = 0.864\n",
    "\n",
    "e33 = (v1+v2+v3+v4)/4"
   ]
  },
  {
   "cell_type": "code",
   "execution_count": 36,
   "metadata": {},
   "outputs": [],
   "source": [
    "e3 = (e31 + e32 + e33)/3"
   ]
  },
  {
   "cell_type": "markdown",
   "metadata": {},
   "source": [
    "Emb4"
   ]
  },
  {
   "cell_type": "code",
   "execution_count": 37,
   "metadata": {},
   "outputs": [],
   "source": [
    "v1 = 0.596\n",
    "v2 = 0.792\n",
    "v3 = 0.84 \n",
    "v4 = 0.886\n",
    "\n",
    "e41 = (v1+v2+v3+v4)/4"
   ]
  },
  {
   "cell_type": "code",
   "execution_count": 38,
   "metadata": {},
   "outputs": [],
   "source": [
    "v1 = 0.6\n",
    "v2 = 0.824\n",
    "v3 = 0.78 \n",
    "v4 = 0.876\n",
    "\n",
    "e42 = (v1+v2+v3+v4)/4"
   ]
  },
  {
   "cell_type": "code",
   "execution_count": 39,
   "metadata": {},
   "outputs": [],
   "source": [
    "v1 = 0.648\n",
    "v2 = 0.744\n",
    "v3 = 0.808 \n",
    "v4 = 0.836\n",
    "\n",
    "e43 = (v1+v2+v3+v4)/4"
   ]
  },
  {
   "cell_type": "code",
   "execution_count": 40,
   "metadata": {},
   "outputs": [],
   "source": [
    "e4 = (e41 + e42 + e43)/3"
   ]
  },
  {
   "cell_type": "markdown",
   "metadata": {},
   "source": [
    "Emb5"
   ]
  },
  {
   "cell_type": "code",
   "execution_count": 41,
   "metadata": {},
   "outputs": [],
   "source": [
    "v1 = 0.64\n",
    "v2 = 0.788\n",
    "v3 = 0.772 \n",
    "v4 = 0.81\n",
    "\n",
    "e51 = (v1+v2+v3+v4)/4"
   ]
  },
  {
   "cell_type": "code",
   "execution_count": 42,
   "metadata": {},
   "outputs": [],
   "source": [
    "v1 = 0.61\n",
    "v2 = 0.792\n",
    "v3 = 0.776 \n",
    "v4 = 0.872\n",
    "\n",
    "e52 = (v1+v2+v3+v4)/4"
   ]
  },
  {
   "cell_type": "code",
   "execution_count": 43,
   "metadata": {},
   "outputs": [],
   "source": [
    "v1 = 0.63\n",
    "v2 = 0.804\n",
    "v3 = 0.824 \n",
    "v4 = 0.89\n",
    "\n",
    "e53 = (v1+v2+v3+v4)/4"
   ]
  },
  {
   "cell_type": "code",
   "execution_count": 44,
   "metadata": {},
   "outputs": [],
   "source": [
    "e5 = (e51 + e52 + e53)/3"
   ]
  },
  {
   "cell_type": "markdown",
   "metadata": {},
   "source": [
    "Emb10"
   ]
  },
  {
   "cell_type": "code",
   "execution_count": 45,
   "metadata": {},
   "outputs": [],
   "source": [
    "v1 = 0.73\n",
    "v2 = 0.804\n",
    "v3 = 0.802 \n",
    "v4 = 0.866\n",
    "\n",
    "e101 = (v1+v2+v3+v4)/4"
   ]
  },
  {
   "cell_type": "code",
   "execution_count": 47,
   "metadata": {},
   "outputs": [],
   "source": [
    "v1 = 0.562\n",
    "v2 = 0.792\n",
    "v3 = 0.814 \n",
    "v4 = 0.86\n",
    "\n",
    "e102 = (v1+v2+v3+v4)/4"
   ]
  },
  {
   "cell_type": "code",
   "execution_count": 48,
   "metadata": {},
   "outputs": [],
   "source": [
    "v1 = 0.668\n",
    "v2 = 0.838\n",
    "v3 = 0.832 \n",
    "v4 = 0.822\n",
    "\n",
    "e103 = (v1+v2+v3+v4)/4"
   ]
  },
  {
   "cell_type": "code",
   "execution_count": 49,
   "metadata": {},
   "outputs": [],
   "source": [
    "e10 = (e101 + e102 + e103)/3"
   ]
  },
  {
   "cell_type": "markdown",
   "metadata": {},
   "source": [
    "Result"
   ]
  },
  {
   "cell_type": "code",
   "execution_count": 50,
   "metadata": {},
   "outputs": [
    {
     "name": "stdout",
     "output_type": "stream",
     "text": [
      "0.6048333333333333 0.7675000000000001 0.7646666666666665 0.7691666666666666 0.7673333333333333 0.7825000000000001\n"
     ]
    }
   ],
   "source": [
    "print(e1, e2, e3, e4, e5, e10)"
   ]
  },
  {
   "cell_type": "code",
   "execution_count": null,
   "metadata": {},
   "outputs": [],
   "source": []
  }
 ],
 "metadata": {
  "kernelspec": {
   "display_name": "Python 3.9.6 64-bit",
   "language": "python",
   "name": "python3"
  },
  "language_info": {
   "codemirror_mode": {
    "name": "ipython",
    "version": 3
   },
   "file_extension": ".py",
   "mimetype": "text/x-python",
   "name": "python",
   "nbconvert_exporter": "python",
   "pygments_lexer": "ipython3",
   "version": "3.9.6"
  },
  "orig_nbformat": 4,
  "vscode": {
   "interpreter": {
    "hash": "0339871e79396108ce91e68406cacad6636242a1340f3b9ec945aece867486f5"
   }
  }
 },
 "nbformat": 4,
 "nbformat_minor": 2
}
