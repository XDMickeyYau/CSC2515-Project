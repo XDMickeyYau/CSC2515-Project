{
  "cells": [
    {
      "cell_type": "markdown",
      "metadata": {
        "id": "view-in-github",
        "colab_type": "text"
      },
      "source": [
        "<a href=\"https://colab.research.google.com/github/XDMickeyYau/CSC2515-Project/blob/main/simCLR_custom.ipynb\" target=\"_parent\"><img src=\"https://colab.research.google.com/assets/colab-badge.svg\" alt=\"Open In Colab\"/></a>"
      ]
    },
    {
      "cell_type": "markdown",
      "metadata": {
        "id": "XvuKDmY6i-o7"
      },
      "source": [
        "Data Loading"
      ]
    },
    {
      "cell_type": "code",
      "execution_count": null,
      "metadata": {
        "id": "2By7-EImi-o9"
      },
      "outputs": [],
      "source": [
        "import re\n",
        "import numpy as np\n",
        "\n",
        "import tensorflow.compat.v1 as tf\n",
        "tf.disable_eager_execution()\n",
        "import tensorflow_hub as hub\n",
        "import tensorflow_datasets as tfds\n",
        "\n",
        "import matplotlib\n",
        "import matplotlib.pyplot as plt"
      ]
    },
    {
      "cell_type": "code",
      "source": [
        "from google.colab import drive\n",
        "drive.mount('/content/drive')"
      ],
      "metadata": {
        "colab": {
          "base_uri": "https://localhost:8080/"
        },
        "id": "KeLDI18Jkt8H",
        "outputId": "038a8f3d-c9a0-4462-ad80-3a24aa8f3a57"
      },
      "execution_count": null,
      "outputs": [
        {
          "output_type": "stream",
          "name": "stdout",
          "text": [
            "Mounted at /content/drive\n"
          ]
        }
      ]
    },
    {
      "cell_type": "code",
      "execution_count": null,
      "metadata": {
        "id": "AghgWyEyi-o9"
      },
      "outputs": [],
      "source": [
        "!cp ./drive/MyDrive/cifar-10-python/cifar-100-python.tar.gz  ./"
      ]
    },
    {
      "cell_type": "code",
      "source": [
        "!tar -xf  cifar-100-python.tar.gz"
      ],
      "metadata": {
        "id": "SoLZsHD-mn-O"
      },
      "execution_count": null,
      "outputs": []
    },
    {
      "cell_type": "code",
      "source": [
        "import pickle\n",
        "import numpy as np\n",
        "import matplotlib.pyplot as plt\n",
        "import os\n",
        "\n",
        "def unpickle(file):\n",
        "    with open(file, 'rb') as fo:\n",
        "        dict = pickle.load(fo, encoding='latin1')\n",
        "    return dict\n",
        "\n",
        "def load_cifar_data(file_dir):\n",
        "    train_data_dict = unpickle(os.path.join(file_dir, \"train\"))\n",
        "    test_data_dict = unpickle(os.path.join(file_dir, \"test\"))\n",
        "    x_train = train_data_dict[\"data\"].reshape(50000, 3, 32, 32).transpose(0,2,3,1).astype(\"uint8\")\n",
        "    x_test = test_data_dict[\"data\"].reshape(10000, 3, 32, 32).transpose(0,2,3,1).astype(\"uint8\")\n",
        "    return x_train, x_test\n",
        "\n",
        "# flattern cifar data from N*32*32*3 to N*3072\n",
        "def flattern_data(x):\n",
        "    samples = x.shape[0]\n",
        "    flattern_shape = 1\n",
        "    for dim in x.shape[1:]:\n",
        "        flattern_shape *= dim\n",
        "    return x.reshape(samples, flattern_shape)\n",
        "\n",
        "# reconstruct data from N*3072 to N*32*32*3\n",
        "def construct_image_from_flattern(x, colored = True):\n",
        "    samples = x.shape[0]\n",
        "    if colored:\n",
        "      return x.reshape(samples, 32, 32, 3).astype(\"uint8\")\n",
        "    else:\n",
        "      return x.reshape(samples, 32, 32).astype(\"uint8\")\n",
        "\n",
        "#visualize image data, displayed on row*col grid, x's 1st-dim >= (row*col)\n",
        "def visualize_data(row, col, plt_size, x):\n",
        "    fig, axes1 = plt.subplots(row, col, figsize=(plt_size, plt_size))\n",
        "    i = 0\n",
        "    for j in range(row):\n",
        "        for k in range(col):\n",
        "            if i >= len(x):\n",
        "              break\n",
        "            axes1[j][k].set_axis_off()\n",
        "            axes1[j][k].imshow(x[i])\n",
        "            i += 1\n",
        "    plt.show()\n",
        "    return"
      ],
      "metadata": {
        "id": "GukXBwIJlcvQ"
      },
      "execution_count": null,
      "outputs": []
    },
    {
      "cell_type": "code",
      "source": [
        "x_train_2d_3channel, x_test_2d_3channel = load_cifar_data(\"cifar-100-python\")\n",
        "x_train_2d_3channel_float = (x_train_2d_3channel/255).astype(np.float32)\n",
        "x_test_2d_3channel_float = (x_test_2d_3channel/255).astype(np.float32)"
      ],
      "metadata": {
        "id": "EBkE_ZDgl6RA"
      },
      "execution_count": null,
      "outputs": []
    },
    {
      "cell_type": "code",
      "source": [
        "x_train_2d_3channel_float.shape, x_test_2d_3channel_float.shape"
      ],
      "metadata": {
        "colab": {
          "base_uri": "https://localhost:8080/"
        },
        "id": "6l3IIGpsnJ3z",
        "outputId": "354f5fd8-acb1-4306-da1d-dc1845c6aba3"
      },
      "execution_count": null,
      "outputs": [
        {
          "output_type": "execute_result",
          "data": {
            "text/plain": [
              "((50000, 32, 32, 3), (10000, 32, 32, 3))"
            ]
          },
          "metadata": {},
          "execution_count": 9
        }
      ]
    },
    {
      "cell_type": "markdown",
      "source": [
        "Model"
      ],
      "metadata": {
        "id": "EDHY-iJnqnF0"
      }
    },
    {
      "cell_type": "code",
      "source": [
        "import re\n",
        "import numpy as np\n",
        "\n",
        "import tensorflow.compat.v1 as tf\n",
        "tf.disable_eager_execution()\n",
        "import tensorflow_hub as hub\n",
        "import tensorflow_datasets as tfds\n",
        "\n",
        "import matplotlib\n",
        "import matplotlib.pyplot as plt"
      ],
      "metadata": {
        "id": "pXF4xSMCqXDO"
      },
      "execution_count": null,
      "outputs": []
    },
    {
      "cell_type": "code",
      "source": [
        "x_train_2d_3channel_tensor = tf.convert_to_tensor(x_train_2d_3channel_float)\n",
        "x_test_2d_3channel_tensor = tf.convert_to_tensor(x_test_2d_3channel_float)\n"
      ],
      "metadata": {
        "id": "B_AAAHlIqlmP"
      },
      "execution_count": null,
      "outputs": []
    },
    {
      "cell_type": "code",
      "source": [
        "hub_path = 'gs://simclr-checkpoints/simclrv2/finetuned_100pct/r50_1x_sk0/hub/'\n",
        "module = hub.Module(hub_path, trainable=False)"
      ],
      "metadata": {
        "id": "5zDey3UdrAeD"
      },
      "execution_count": null,
      "outputs": []
    },
    {
      "cell_type": "code",
      "source": [
        "x_train_feature = module(x_train_2d_3channel_tensor)\n",
        "x_test_feature = module(x_test_2d_3channel_tensor)\n",
        "x_train_feature.shape, x_test_feature.shape"
      ],
      "metadata": {
        "colab": {
          "base_uri": "https://localhost:8080/"
        },
        "id": "Mi4SRAYCrFy-",
        "outputId": "611af75a-718d-417b-d5c9-54ce36a7590c"
      },
      "execution_count": null,
      "outputs": [
        {
          "output_type": "execute_result",
          "data": {
            "text/plain": [
              "(TensorShape([50000, 2048]), TensorShape([10000, 2048]))"
            ]
          },
          "metadata": {},
          "execution_count": 14
        }
      ]
    },
    {
      "cell_type": "code",
      "source": [
        "sess = tf.Session()\n",
        "sess.run(tf.global_variables_initializer())"
      ],
      "metadata": {
        "id": "OV3qTxdYsm_k"
      },
      "execution_count": null,
      "outputs": []
    },
    {
      "cell_type": "code",
      "source": [
        "x_train_feature_float = sess.run(x_train_feature)\n",
        "x_test_feature_float = sess.run(x_test_feature)\n",
        "x_train_feature_float.shape, x_test_feature_float.shape"
      ],
      "metadata": {
        "colab": {
          "base_uri": "https://localhost:8080/"
        },
        "id": "6h0ou7UrtKmh",
        "outputId": "6e454c03-7650-4136-add8-86929ee8d8d1"
      },
      "execution_count": null,
      "outputs": [
        {
          "output_type": "execute_result",
          "data": {
            "text/plain": [
              "((50000, 2048), (10000, 2048))"
            ]
          },
          "metadata": {},
          "execution_count": 16
        }
      ]
    },
    {
      "cell_type": "markdown",
      "source": [
        "PCA & K Mean"
      ],
      "metadata": {
        "id": "SntivNfPsWjr"
      }
    },
    {
      "cell_type": "code",
      "source": [
        "from sklearn.decomposition import PCA\n",
        "\n",
        "# construct a pca object from given data\n",
        "def get_pca(component, X):\n",
        "    pca = PCA(n_components=component)\n",
        "    pca.fit(X)\n",
        "    return pca\n",
        "\n",
        "def pca_encode(pca_model, X):\n",
        "  return pca_model.transform(X)\n",
        "\n",
        "def pca_decode(pca_model, X):\n",
        "  return pca_model.inverse_transform(X)"
      ],
      "metadata": {
        "id": "EeLHler4sVc1"
      },
      "execution_count": null,
      "outputs": []
    },
    {
      "cell_type": "code",
      "source": [
        "from sklearn.cluster import KMeans\n",
        "\n",
        "# generate a kmeans model and label of input data\n",
        "def generate_kmeans_model(X, k):\n",
        "    kmeans = KMeans(n_clusters=k, random_state=0)\n",
        "    transformed = kmeans.fit_predict(X)\n",
        "    return kmeans, transformed\n",
        "\n",
        "# predict cluster labels of given data\n",
        "def kmeans_clustering(model, X):\n",
        "    return model.predict(X)\n",
        "\n",
        "# transform a list of labels respect to index into a dictionary of {cluster)num:[index]}\n",
        "def clusters_to_index(cluster_labels):\n",
        "    dict = {}\n",
        "    for i in range(len(cluster_labels)):\n",
        "        if cluster_labels[i] in dict:\n",
        "            dict[cluster_labels[i]].append(i)\n",
        "        else:\n",
        "            dict[cluster_labels[i]] = [i]\n",
        "    return dict"
      ],
      "metadata": {
        "id": "gfsuyRhAsVmJ"
      },
      "execution_count": null,
      "outputs": []
    },
    {
      "cell_type": "code",
      "source": [
        "def pca_kmeans_pipeline(Train, Test, feature_vector_size, cluster_num):\n",
        "  pca_model = get_pca(feature_vector_size, Train)\n",
        "  encoded_image = pca_encode(pca_model, Test)\n",
        "  kmeans_model, data_index_cluster_labels = generate_kmeans_model(encoded_image, cluster_num)\n",
        "  cluster_index_dict = clusters_to_index(data_index_cluster_labels)\n",
        "  return pca_model, kmeans_model, cluster_index_dict"
      ],
      "metadata": {
        "id": "XsKPhKtpsUxN"
      },
      "execution_count": null,
      "outputs": []
    },
    {
      "cell_type": "code",
      "source": [
        "# visualizing kmeans cluster centers\n",
        "def visualize_kmeans_centre(kmeans_model, pca_model, row, col, colored = True):\n",
        "  cluster_centers = kmeans_model.cluster_centers_\n",
        "  cluster_centers_decoded = pca_decode(pca_model, cluster_centers)\n",
        "  cluster_centers_decoded_image = construct_image_from_flattern(cluster_centers_decoded, colored)\n",
        "  visualize_data(row, col, 15, cluster_centers_decoded_image)\n"
      ],
      "metadata": {
        "id": "u1ok7KApseQX"
      },
      "execution_count": null,
      "outputs": []
    },
    {
      "cell_type": "code",
      "source": [
        "feature_vector_size = 500\n",
        "n_cluster = 100\n",
        "pca_model, kmeans_model, cluster_index_dict = pca_kmeans_pipeline(x_train_feature_float, x_test_feature_float, feature_vector_size, n_cluster)"
      ],
      "metadata": {
        "id": "WaHRzPECrTrY"
      },
      "execution_count": null,
      "outputs": []
    },
    {
      "cell_type": "code",
      "source": [
        "# Vidualize image clusters\n",
        "for cluster in sorted(list(cluster_index_dict.keys())):\n",
        "  print(cluster)\n",
        "  image_index = cluster_index_dict[cluster]\n",
        "  images = x_test_2d_3channel[image_index]\n",
        "  visualize_data(3,3, 5, images)"
      ],
      "metadata": {
        "id": "oJcADeV9vOQU"
      },
      "execution_count": null,
      "outputs": []
    },
    {
      "cell_type": "code",
      "source": [],
      "metadata": {
        "id": "DVc69qgWvdUX"
      },
      "execution_count": null,
      "outputs": []
    }
  ],
  "metadata": {
    "language_info": {
      "name": "python"
    },
    "orig_nbformat": 4,
    "colab": {
      "provenance": [],
      "include_colab_link": true
    },
    "kernelspec": {
      "name": "python3",
      "display_name": "Python 3"
    },
    "gpuClass": "standard",
    "accelerator": "GPU"
  },
  "nbformat": 4,
  "nbformat_minor": 0
}